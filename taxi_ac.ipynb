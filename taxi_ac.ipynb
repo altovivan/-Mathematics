{
 "cells": [
  {
   "cell_type": "markdown",
   "id": "7c1f5fd2",
   "metadata": {},
   "source": [
    "# ДТП с участием такси"
   ]
  },
  {
   "cell_type": "markdown",
   "id": "7b74f595",
   "metadata": {},
   "source": [
    "**УСЛОВИЕ ЗАДАЧИ** <br>\n",
    "В городе N произошло ДТП с наездом такси на пешехода. Известно, что в городе только два цвета машин - белые и желтые. Причем желтых 85%, остальные белые. Есть свидетель, который говорит, что в ДТП участвовала желтая машина. Однако, так как наезд совершен ночью, свидетель может заблуждаться в своих показаниях, и в темное время суток в 20% случаев он путает желтый цвет с белым. Какова вероятность того, что ДТП было с участием желтой машины?\n",
    "\n",
    "Решим задачу несколькими способами:\n",
    "\n",
    "**1. Статистически**<br>\n",
    "\n",
    "**2. Используя классическое определение вероятности**\n",
    "\n",
    "**3. Используя формулу Байеса**\n",
    "\n",
    "\n",
    "\n"
   ]
  },
  {
   "cell_type": "markdown",
   "id": "0d1976a5",
   "metadata": {},
   "source": [
    "## Статистический метод"
   ]
  },
  {
   "cell_type": "code",
   "execution_count": 1,
   "id": "62b3e2ae",
   "metadata": {},
   "outputs": [],
   "source": [
    "import pandas as pd\n",
    "import numpy as np\n",
    "from tqdm.notebook import tqdm"
   ]
  },
  {
   "cell_type": "markdown",
   "id": "a3d60c75",
   "metadata": {},
   "source": [
    "Зададим указанные в условии частоты"
   ]
  },
  {
   "cell_type": "code",
   "execution_count": 2,
   "id": "e78b48b9",
   "metadata": {},
   "outputs": [],
   "source": [
    "# частота ошибки в цвете \n",
    "false_color = 0.20\n",
    "\n",
    "# частота, с которой можно встретить желтое такси\n",
    "yellow_car = 0.15"
   ]
  },
  {
   "cell_type": "markdown",
   "id": "e53b8c0d",
   "metadata": {},
   "source": [
    "Моделируем желтые и белые такси, из расчета указанных частот и 10 млн. количества"
   ]
  },
  {
   "cell_type": "code",
   "execution_count": 3,
   "id": "b38f6cf8",
   "metadata": {},
   "outputs": [
    {
     "data": {
      "application/vnd.jupyter.widget-view+json": {
       "model_id": "fb312cde52124299b26ea2531e43f946",
       "version_major": 2,
       "version_minor": 0
      },
      "text/plain": [
       "  0%|          | 0/10000000 [00:00<?, ?it/s]"
      ]
     },
     "metadata": {},
     "output_type": "display_data"
    },
    {
     "data": {
      "text/plain": [
       "10000000"
      ]
     },
     "execution_count": 3,
     "metadata": {},
     "output_type": "execute_result"
    }
   ],
   "source": [
    "# список желтых (1) и белых (0) такси в количестве 10 млн. с частотой 0.15 желтые и 0.85 белые\n",
    "yellow_white = [np.random.binomial(1, yellow_car) for _ in tqdm(range(10**7))]\n",
    "len(yellow_white)"
   ]
  },
  {
   "cell_type": "markdown",
   "id": "cf3ffe0c",
   "metadata": {},
   "source": [
    "Теперь, для моделирования частоты, с которой свидетель верно определяет желтые цвет такси создадим функцию test_color"
   ]
  },
  {
   "cell_type": "code",
   "execution_count": 4,
   "id": "17ffc21b",
   "metadata": {},
   "outputs": [
    {
     "name": "stdout",
     "output_type": "stream",
     "text": [
      "В случае с желтым (верно определить): 0.81\n",
      "В случае с белым (совершить ошибку): 0.2\n"
     ]
    }
   ],
   "source": [
    "# моделируем результаты определения желтого цвета (0 - ошибка, 1 - верно)\n",
    "def test_color(col):\n",
    "    if np.random.binomial(1, 1 - false_color):\n",
    "        return col\n",
    "    return abs(col-1)\n",
    "\n",
    "# сразу проверим\n",
    "print('В случае с желтым (верно определить):', round(np.mean([test_color(1) for _ in range(10000)]), 2))\n",
    "print('В случае с белым (совершить ошибку):', round(np.mean([test_color(0) for _ in range(10000)]), 2))"
   ]
  },
  {
   "cell_type": "markdown",
   "id": "3e67b648",
   "metadata": {},
   "source": [
    "Готово. Теперь соберем полученные данные вместе и смоделируем город N"
   ]
  },
  {
   "cell_type": "code",
   "execution_count": null,
   "id": "49b997ed",
   "metadata": {},
   "outputs": [],
   "source": [
    "# применяем функцию частоты, с которой свидетель определяет желтый цвет машины\n",
    "test_taxi = []\n",
    "\n",
    "for x in tqdm(yellow_white):\n",
    "    taxi_color = test_color(x)\n",
    "    test_taxi.append((x, taxi_color))"
   ]
  },
  {
   "cell_type": "code",
   "execution_count": null,
   "id": "801e7258",
   "metadata": {},
   "outputs": [],
   "source": [
    "# создаем датафрейм city_N\n",
    "city_N = pd.DataFrame(test_taxi, columns=['color', 'test_color'])"
   ]
  },
  {
   "cell_type": "code",
   "execution_count": 43,
   "id": "adfb069c",
   "metadata": {},
   "outputs": [
    {
     "name": "stdout",
     "output_type": "stream",
     "text": [
      "Вероятность того, что в ДТП участвовала желтая машина примерно 0.4141\n"
     ]
    }
   ],
   "source": [
    "# группируем по результату определения цвета такси\n",
    "print('Вероятность того, что в ДТП участвовала желтая машина примерно', \n",
    "      round(city_N.groupby('test_color')['color'].mean().iloc[1], 4))"
   ]
  },
  {
   "cell_type": "markdown",
   "id": "905a7c30",
   "metadata": {},
   "source": [
    "## Классическое определение вероятности"
   ]
  },
  {
   "cell_type": "markdown",
   "id": "cbc8caea",
   "metadata": {},
   "source": [
    "Пусть событие А - свидетель верно определил желтый цвет машины, pA - вероятность события А.\n",
    "\n",
    "Рассмотрим город N, в котором 100 мишин такси (без ограничения общности можем взять любое число). Рассчитаем сколько белых и желтых машин из 100 будут правильно/неправильно определены свидетелем."
   ]
  },
  {
   "cell_type": "code",
   "execution_count": 32,
   "id": "9611df2d",
   "metadata": {},
   "outputs": [
    {
     "name": "stdout",
     "output_type": "stream",
     "text": [
      "Всего такси в городе N: 100\n",
      "Белых такси в городе N: 85\n",
      "Желтых такси в городе N: 15\n"
     ]
    }
   ],
   "source": [
    "count_taxi = 100\n",
    "\n",
    "white_t = 0.85\n",
    "yellow_t = 1 - white_t\n",
    "\n",
    "test_ye_color_true = 0.8\n",
    "test_ye_color_false = 1 - test_ye_color_true\n",
    "\n",
    "taxi_white = round(count_taxi * white_t)\n",
    "taxi_yellow = round(count_taxi * yellow_t)\n",
    "\n",
    "print('Всего такси в городе N:', count_taxi)\n",
    "print('Белых такси в городе N:', taxi_white)\n",
    "print('Желтых такси в городе N:', taxi_yellow)"
   ]
  },
  {
   "cell_type": "code",
   "execution_count": 39,
   "id": "66bacfaf",
   "metadata": {},
   "outputs": [
    {
     "name": "stdout",
     "output_type": "stream",
     "text": [
      "Из 85 белых машин свидетель правильно определил цвет 68, а 17 машин посчитал желтыми\n",
      "Из 15 желтых машин свидетель правильно определил цвет 12, а 3 машин посчитал белыми\n"
     ]
    }
   ],
   "source": [
    "test_true_w = round(taxi_white * test_ye_color_true)\n",
    "test_false_w = round(taxi_white * test_ye_color_false)\n",
    "\n",
    "\n",
    "test_true_y = round(taxi_yellow * test_ye_color_true)\n",
    "test_false_y = round(taxi_yellow * test_ye_color_false)\n",
    "\n",
    "print(\"Из {} белых машин свидетель правильно определил цвет {}, а {} машин посчитал желтыми\"\n",
    "      .format(taxi_white,test_true_w,test_false_w))\n",
    "\n",
    "print(\"Из {} желтых машин свидетель правильно определил цвет {}, а {} машин посчитал белыми\"\n",
    "      .format(taxi_yellow,test_true_y,test_false_y))"
   ]
  },
  {
   "cell_type": "markdown",
   "id": "424473b8",
   "metadata": {},
   "source": [
    "Вероятность того, что в ДТП участвовала желтая машина, можно найти как отношение количества желтых машин, которые свидетель определил верно, к числу всех машин, что он мог посчитать желтыми."
   ]
  },
  {
   "cell_type": "code",
   "execution_count": 46,
   "id": "478a8e6f",
   "metadata": {},
   "outputs": [
    {
     "name": "stdout",
     "output_type": "stream",
     "text": [
      "Вероятность того, что свидетель точно определил желтый цвет машины равна 0.4138 или 12/29\n"
     ]
    }
   ],
   "source": [
    "pA = round(test_true_y/(test_true_y + test_false_w), 4)\n",
    "print(\"Вероятность того, что свидетель точно определил желтый цвет машины равна {} или {}/{}\"\n",
    "      .format(pA, test_true_y, test_true_y + test_false_w))"
   ]
  },
  {
   "cell_type": "markdown",
   "id": "f3fad057",
   "metadata": {},
   "source": [
    "## Формула Байеса"
   ]
  },
  {
   "cell_type": "markdown",
   "id": "58935a2a",
   "metadata": {},
   "source": [
    "Напомним формулу Байеса "
   ]
  },
  {
   "cell_type": "markdown",
   "id": "97091249",
   "metadata": {},
   "source": [
    "$$ P(A|B) = \\frac{P(B|A)P(A)}{P(B)} $$"
   ]
  },
  {
   "cell_type": "markdown",
   "id": "8c759abf",
   "metadata": {},
   "source": [
    "*P(A|B)* - вероятность того, что произошло событие *А*, при условии наступления события *В* <br>\n",
    "*P(B|A)* - вероятность того, что произошло событие *В*, при условии наступления события *А* <br>\n",
    "*P(A)* - вероятность события *А*, *P(B)* - вероятность события *B*.\n",
    "\n",
    "**Пусть в нашей задаче:**\n",
    "\n",
    "Событие *А* - такси желтое, *В* - свидетель определил цвет такси как желтый. <br>\n",
    "*P(A|B)* - вероятность того, что такси действительно желтое если так сказал свидетель. <br>\n",
    "*P(A)* - вероятность того, что такси желтое. <br>\n",
    "*P(B|A)* - вероятность того, что свидетель определил такси как желтое при условии, что оно действительно желтое.<br>\n",
    "*P(B)* - вероятность того, что свидетель определил такси как желтое."
   ]
  },
  {
   "cell_type": "markdown",
   "id": "d6639100",
   "metadata": {},
   "source": [
    "**Имеем:**\n",
    "\n",
    "*P(A) = 0.15*, *P(B|A) = 0.8*, *P(B)* надо найти. Используем для этого формулу полной вероятности.<br>"
   ]
  },
  {
   "cell_type": "markdown",
   "id": "389851ff",
   "metadata": {},
   "source": [
    "$$ P(B) = P(B|A)P(A)+P(B|A')P(A')$$"
   ]
  },
  {
   "cell_type": "markdown",
   "id": "b2920291",
   "metadata": {},
   "source": [
    "Где *A'* - событие, обратное *А*."
   ]
  },
  {
   "cell_type": "code",
   "execution_count": 57,
   "id": "4923a939",
   "metadata": {},
   "outputs": [
    {
     "name": "stdout",
     "output_type": "stream",
     "text": [
      "Вероятность, с которой свидетель определяет такси как желтое: 0.29\n"
     ]
    }
   ],
   "source": [
    "# По условию задачи\n",
    "# вероятность, с которой встречаются желтые такси\n",
    "p_A = 0.15\n",
    "# вероятность, с которой свидетель правильно определяет желтый цвет такси\n",
    "p_BA = 0.8\n",
    "# вероятность, с которой свидетель неправильно определяет желтый цвет такси\n",
    "p_BnotA = 0.2\n",
    "# вероятность, с котрой встречается белое такси\n",
    "p_notA = 0.85\n",
    "\n",
    "# вероятность, с которой свидетель определяет такси как желтое\n",
    "p_B = p_BA * p_A + p_BnotA * p_notA\n",
    "\n",
    "print('Вероятность, с которой свидетель определяет такси как желтое:', round(p_B,4))"
   ]
  },
  {
   "cell_type": "code",
   "execution_count": 58,
   "id": "bd797fc3",
   "metadata": {},
   "outputs": [
    {
     "name": "stdout",
     "output_type": "stream",
     "text": [
      "Вероятность, с которой такси оказалось желтым, как и сказал свидетель: 0.4138\n"
     ]
    }
   ],
   "source": [
    "# вероятность того, что такси действительно желтое, как и сказал свидетель\n",
    "p_AB = (p_BA * p_A) / p_B\n",
    "\n",
    "print('Вероятность, с которой такси оказалось желтым, как и сказал свидетель:', round(p_AB, 4))"
   ]
  }
 ],
 "metadata": {
  "kernelspec": {
   "display_name": "Python 3 (ipykernel)",
   "language": "python",
   "name": "python3"
  },
  "language_info": {
   "codemirror_mode": {
    "name": "ipython",
    "version": 3
   },
   "file_extension": ".py",
   "mimetype": "text/x-python",
   "name": "python",
   "nbconvert_exporter": "python",
   "pygments_lexer": "ipython3",
   "version": "3.9.7"
  },
  "latex_envs": {
   "LaTeX_envs_menu_present": true,
   "autoclose": false,
   "autocomplete": true,
   "bibliofile": "biblio.bib",
   "cite_by": "apalike",
   "current_citInitial": 1,
   "eqLabelWithNumbers": true,
   "eqNumInitial": 1,
   "hotkeys": {
    "equation": "Ctrl-E",
    "itemize": "Ctrl-I"
   },
   "labels_anchors": false,
   "latex_user_defs": false,
   "report_style_numbering": false,
   "user_envs_cfg": false
  },
  "toc": {
   "base_numbering": 1,
   "nav_menu": {},
   "number_sections": true,
   "sideBar": true,
   "skip_h1_title": true,
   "title_cell": "Содержание",
   "title_sidebar": "Содержание",
   "toc_cell": false,
   "toc_position": {},
   "toc_section_display": true,
   "toc_window_display": false
  }
 },
 "nbformat": 4,
 "nbformat_minor": 5
}
